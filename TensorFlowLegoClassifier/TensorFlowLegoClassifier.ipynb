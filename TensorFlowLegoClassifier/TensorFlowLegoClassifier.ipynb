{
 "cells": [
  {
   "cell_type": "markdown",
   "metadata": {},
   "source": [
    "<center><h1> TensorFlow CNN Classifier </h1></center>"
   ]
  },
  {
   "cell_type": "markdown",
   "metadata": {},
   "source": [
    "# 1) Import Libraries"
   ]
  },
  {
   "cell_type": "code",
   "execution_count": 18,
   "metadata": {
    "ExecuteTime": {
     "end_time": "2023-12-21T18:59:59.049880200Z",
     "start_time": "2023-12-21T18:59:58.955807Z"
    }
   },
   "outputs": [
    {
     "name": "stdout",
     "output_type": "stream",
     "text": [
      "2.14.0\n"
     ]
    }
   ],
   "source": [
    "import tensorflow as tf\n",
    "from tensorflow import keras\n",
    "\n",
    "import numpy as np\n",
    "import matplotlib.pyplot as plt\n",
    "\n",
    "print(tf.__version__)"
   ]
  },
  {
   "cell_type": "markdown",
   "metadata": {},
   "source": [
    "# 2) Load the Data"
   ]
  },
  {
   "cell_type": "code",
   "execution_count": 19,
   "metadata": {
    "ExecuteTime": {
     "end_time": "2023-12-21T18:59:59.118424100Z",
     "start_time": "2023-12-21T18:59:58.971701500Z"
    }
   },
   "outputs": [],
   "source": [
    "train_images = np.load('data\\lego-train-images.npy')\n",
    "train_labels = np.load('data\\lego-train-labels.npy')\n",
    "test_images = np.load('data\\lego-test-images.npy')\n",
    "test_labels = np.load('data\\lego-test-labels.npy')"
   ]
  },
  {
   "cell_type": "markdown",
   "metadata": {},
   "source": [
    "The labels we loaded are integer values 1 through 10. Integer values are great for the model to understand and predict, but they are a hassle for us to understand as we are working with the data. Let's add some human-readable names for the labels we are trying to predict."
   ]
  },
  {
   "cell_type": "code",
   "execution_count": 20,
   "metadata": {
    "ExecuteTime": {
     "end_time": "2023-12-21T18:59:59.118424100Z",
     "start_time": "2023-12-21T18:59:58.987347500Z"
    }
   },
   "outputs": [],
   "source": [
    "# For humans:\n",
    "class_names = ['2x3 Brick', '2x2 Brick', '1x3 Brick', '2x1 Brick', '1x1 Brick', \n",
    "               '2x2 Macaroni', '2x2 Curved End', 'Cog 16 Tooth', '1x2 Handles', '1x2 Grill']\n",
    "\n",
    "# Or the real LEGO codes:\n",
    "# class_names = ['3002', '3003', '3622', '3004', '3005', '3063', '47457', '94925', '3839a', '2412b']"
   ]
  },
  {
   "cell_type": "code",
   "execution_count": 21,
   "metadata": {
    "ExecuteTime": {
     "end_time": "2023-12-21T18:59:59.118424100Z",
     "start_time": "2023-12-21T18:59:59.003000200Z"
    }
   },
   "outputs": [
    {
     "name": "stdout",
     "output_type": "stream",
     "text": [
      "(48, 48, 1)\n",
      "(48, 48, 1)\n"
     ]
    }
   ],
   "source": [
    "print(train_images[0].shape)\n",
    "print(test_images[0].shape)"
   ]
  },
  {
   "cell_type": "markdown",
   "metadata": {},
   "source": [
    "# 3) Create the Model"
   ]
  },
  {
   "cell_type": "markdown",
   "metadata": {},
   "source": [
    "Now the data is loaded, and we have an idea of what we're working with, so let's teach the machine what we're working with. First, we need to create a model. We're creating an artificial neural network. It has three layers.\n",
    "\n",
    "1. The input layer with enough nodes for our image data. \n",
    "2. A hidden layer with 128 nodes.\n",
    "3. An output layer with 10 nodes, one for each of the classes we want to identify.\n",
    "\n",
    "The first layer is doing a bit of data processing for us. It will change the input from a 48x48 matrix to a 2,304 value arary. This allows the input to be densely connected to the next layer. We could have also done this step outside of the model, but we would also have to do the same conversion to the data we are trying to predict before sending it to the trained model. Using the Flatten layer saves us a data preprocessing step during prediction, since that data is also formatted as 48x48 matrixes.\n",
    "\n",
    "Each layer is densely connected, meaning each neuron in one layer is connected to every neuron in the next layer."
   ]
  },
  {
   "cell_type": "code",
   "execution_count": 22,
   "metadata": {
    "ExecuteTime": {
     "end_time": "2023-12-21T18:59:59.134208700Z",
     "start_time": "2023-12-21T18:59:59.018601600Z"
    }
   },
   "outputs": [],
   "source": [
    "model = keras.Sequential([\n",
    "    keras.layers.Flatten(input_shape=(48, 48)),\n",
    "    keras.layers.Dense(128, activation='relu'),\n",
    "    keras.layers.Dense(10, activation='softmax')\n",
    "])"
   ]
  },
  {
   "cell_type": "markdown",
   "metadata": {},
   "source": [
    "Now we compile the model."
   ]
  },
  {
   "cell_type": "code",
   "execution_count": 23,
   "metadata": {
    "ExecuteTime": {
     "end_time": "2023-12-21T18:59:59.134208700Z",
     "start_time": "2023-12-21T18:59:59.055865700Z"
    }
   },
   "outputs": [],
   "source": [
    "model.compile(optimizer='adam',\n",
    "              loss='sparse_categorical_crossentropy',\n",
    "              metrics=['acc'])"
   ]
  },
  {
   "cell_type": "markdown",
   "metadata": {},
   "source": [
    "Finally, it's time to train the model. Note the epochs and watch the accuracy as it processes."
   ]
  },
  {
   "cell_type": "code",
   "execution_count": 24,
   "metadata": {
    "ExecuteTime": {
     "end_time": "2023-12-21T18:59:59.891440200Z",
     "start_time": "2023-12-21T18:59:59.071523900Z"
    }
   },
   "outputs": [
    {
     "name": "stdout",
     "output_type": "stream",
     "text": [
      "Epoch 1/5\n",
      "15/15 [==============================] - 0s 5ms/step - loss: 69.8352 - acc: 0.3614\n",
      "Epoch 2/5\n",
      "15/15 [==============================] - 0s 4ms/step - loss: 6.9591 - acc: 0.7317\n",
      "Epoch 3/5\n",
      "15/15 [==============================] - 0s 6ms/step - loss: 3.7660 - acc: 0.7982\n",
      "Epoch 4/5\n",
      "15/15 [==============================] - 0s 6ms/step - loss: 0.8622 - acc: 0.9357\n",
      "Epoch 5/5\n",
      "15/15 [==============================] - 0s 4ms/step - loss: 0.1835 - acc: 0.9712\n"
     ]
    }
   ],
   "source": [
    "history = model.fit(train_images, train_labels, epochs=5)"
   ]
  },
  {
   "cell_type": "markdown",
   "metadata": {},
   "source": [
    "You can see from the output above that with each epoch, the model gets a greater accuracy score. When we trained the model, we stored the ```history``` of the training in a variable so we can draw a graph of how the training process progressed. We can plot accuracy and loss over the epochs."
   ]
  },
  {
   "cell_type": "code",
   "execution_count": 25,
   "metadata": {
    "ExecuteTime": {
     "end_time": "2023-12-21T19:00:00.164923800Z",
     "start_time": "2023-12-21T18:59:59.898238Z"
    }
   },
   "outputs": [
    {
     "data": {
      "text/plain": "<Figure size 1500x400 with 2 Axes>",
      "image/png": "[encoded data removed]"
     },
     "metadata": {},
     "output_type": "display_data"
    }
   ],
   "source": [
    "plt.figure(figsize=(15, 4))\n",
    "\n",
    "plt.subplot(1, 2, 1)\n",
    "# Plot training accuracy values\n",
    "plt.plot(history.history['acc'])\n",
    "plt.title('Model accuracy')\n",
    "plt.ylabel('Accuracy')\n",
    "plt.xlabel('Epoch')\n",
    "plt.legend(['Train', 'Test'], loc='upper left')\n",
    "\n",
    "plt.subplot(1, 2, 2)\n",
    "# Plot training loss values\n",
    "plt.plot(history.history['loss'])\n",
    "plt.title('Model loss')\n",
    "plt.ylabel('Loss')\n",
    "plt.xlabel('Epoch')\n",
    "plt.legend(['Train', 'Test'], loc='upper left')\n",
    "plt.show()"
   ]
  },
  {
   "cell_type": "markdown",
   "metadata": {},
   "source": [
    "# 4) Evaluate the Model\n",
    "\n",
    "Accuracy while training is one thing. Let's calculate accuracy against the __testing data__. If the accuracy achieved during training is much greater than what we calculate for the testing data, the model is probably overfit. This means it works well to classify training data but not testing data."
   ]
  },
  {
   "cell_type": "code",
   "execution_count": 26,
   "metadata": {
    "ExecuteTime": {
     "end_time": "2023-12-21T19:00:00.461771100Z",
     "start_time": "2023-12-21T19:00:00.164923800Z"
    }
   },
   "outputs": [
    {
     "name": "stdout",
     "output_type": "stream",
     "text": [
      "5/5 [==============================] - 0s 4ms/step - loss: 6.6448e-04 - acc: 1.0000\n",
      "Test accuracy: 1.0\n",
      "Test loss: 0.0006644812528975308\n"
     ]
    }
   ],
   "source": [
    "test_loss, test_acc = model.evaluate(test_images, test_labels)\n",
    "print('Test accuracy:', test_acc)\n",
    "print('Test loss:', test_loss)"
   ]
  },
  {
   "cell_type": "markdown",
   "metadata": {},
   "source": [
    "## Single Prediction"
   ]
  },
  {
   "cell_type": "markdown",
   "metadata": {},
   "source": [
    "We need to do one quick transformation of this image before we can see what the model thinks. The ```predict``` method expects a collection of images, so we create a collection of one image."
   ]
  },
  {
   "cell_type": "code",
   "execution_count": 27,
   "metadata": {
    "ExecuteTime": {
     "end_time": "2023-12-21T19:00:00.461771100Z",
     "start_time": "2023-12-21T19:00:00.336775600Z"
    }
   },
   "outputs": [
    {
     "data": {
      "text/plain": "(1, 48, 48, 1)"
     },
     "execution_count": 27,
     "metadata": {},
     "output_type": "execute_result"
    }
   ],
   "source": [
    "test_image_number = 65\n",
    "\n",
    "img = test_images[test_image_number]\n",
    "img = (np.expand_dims(img,0))\n",
    "img.shape"
   ]
  },
  {
   "cell_type": "markdown",
   "metadata": {},
   "source": [
    "The shape is now a collection of 1 piece of data that is 48x48. Next, we pass our image to the ```predict``` method. The result is a list of probabilities that the image is a certain class."
   ]
  },
  {
   "cell_type": "code",
   "execution_count": 28,
   "metadata": {
    "ExecuteTime": {
     "end_time": "2023-12-21T19:00:00.461771100Z",
     "start_time": "2023-12-21T19:00:00.352395500Z"
    }
   },
   "outputs": [
    {
     "name": "stdout",
     "output_type": "stream",
     "text": [
      "1/1 [==============================] - 0s 47ms/step\n"
     ]
    },
    {
     "data": {
      "text/plain": "array([[0.0000000e+00, 2.6404090e-17, 4.2895956e-27, 3.8047001e-09,\n        1.5672112e-08, 9.9999905e-01, 2.5122716e-15, 9.2031217e-07,\n        3.2066706e-29, 1.8404303e-23]], dtype=float32)"
     },
     "execution_count": 28,
     "metadata": {},
     "output_type": "execute_result"
    }
   ],
   "source": [
    "predictions_single = model.predict(img)\n",
    "predictions_single"
   ]
  },
  {
   "cell_type": "markdown",
   "metadata": {
    "collapsed": false
   },
   "source": [
    "Those are not not very easy for us to look at. Luckily, NumPy has a handy function called `argmax` to find the index of the largest value in the list, which saves us having to look! We can use a second NumPy method to find the actual `max` value."
   ]
  },
  {
   "cell_type": "code",
   "execution_count": 29,
   "metadata": {
    "collapsed": false,
    "ExecuteTime": {
     "end_time": "2023-12-21T19:00:00.461771100Z",
     "start_time": "2023-12-21T19:00:00.461771100Z"
    }
   },
   "outputs": [
    {
     "name": "stdout",
     "output_type": "stream",
     "text": [
      "Predicted class 5, which is 2x2 Macaroni.\n",
      "The model thinks there is a 100.00% probability of this brick being correct.\n",
      "Real result is 2x2 Macaroni.\n"
     ]
    }
   ],
   "source": [
    "prediction_result = np.argmax(predictions_single)\n",
    "probability = np.max(predictions_single)\n",
    "real_result = class_names[test_labels[test_image_number]]\n",
    "print(f\"Predicted class {prediction_result}, which is {class_names[prediction_result]}.\")\n",
    "print(f\"The model thinks there is a {probability*100:.2f}% probability of this brick being correct.\")\n",
    "print(f\"Real result is {real_result}.\")"
   ]
  },
  {
   "cell_type": "markdown",
   "metadata": {},
   "source": [
    "Here are a couple of functions to help with the display of the prediction data."
   ]
  },
  {
   "cell_type": "code",
   "execution_count": 30,
   "metadata": {
    "ExecuteTime": {
     "end_time": "2023-12-21T19:00:00.477417100Z",
     "start_time": "2023-12-21T19:00:00.461771100Z"
    }
   },
   "outputs": [],
   "source": [
    "# Function to display the prediction results in a graph:\n",
    "def plot_value_array(predictions_array, true_label, image):\n",
    "    predicted_label = np.argmax(predictions_array)\n",
    "    predicted_probability = 100 * np.max(predictions_array)\n",
    "    \n",
    "    fig, (ax1, ax2) = plt.subplots(1, 2, figsize=(10, 4))\n",
    "\n",
    "    ax1.axis('off')\n",
    "    ax1.imshow(image, cmap='gray')\n",
    "    color = 'green' if predicted_label == true_label else 'red'\n",
    "    ax1.set_title(f\"{class_names[predicted_label]} {predicted_probability:2.0f}% ({class_names[true_label]})\", color=color)\n",
    "    \n",
    "    plot = ax2.bar(range(len(predictions_array)), predictions_array, color=\"#777777\")\n",
    "    ax2.set_xticks(range(len(class_names)), class_names, rotation=80)\n",
    "    plot[predicted_label].set_color('red')\n",
    "    plot[true_label].set_color('green')\n",
    "    \n",
    "    plt.show()"
   ]
  },
  {
   "cell_type": "markdown",
   "metadata": {},
   "source": [
    "Let's plot a bar chart using the helper function. This gives us a sense of how well the model classified this image. The predicted label will be red if it is different than the actual label. The actual label will be green."
   ]
  },
  {
   "cell_type": "code",
   "execution_count": 31,
   "metadata": {
    "ExecuteTime": {
     "end_time": "2023-12-21T19:00:00.672482500Z",
     "start_time": "2023-12-21T19:00:00.477417100Z"
    }
   },
   "outputs": [
    {
     "data": {
      "text/plain": "<Figure size 1000x400 with 2 Axes>",
      "image/png": "[encoded data removed]"
     },
     "metadata": {},
     "output_type": "display_data"
    }
   ],
   "source": [
    "plot_value_array(predictions_array=predictions_single[0], \n",
    "                 true_label=test_labels[test_image_number], \n",
    "                 image=test_images[test_image_number])"
   ]
  },
  {
   "cell_type": "markdown",
   "metadata": {},
   "source": [
    "## Batch Prediction"
   ]
  },
  {
   "cell_type": "markdown",
   "metadata": {},
   "source": [
    "Now let's get prediction values for **all** the test images we have."
   ]
  },
  {
   "cell_type": "code",
   "execution_count": 32,
   "metadata": {
    "ExecuteTime": {
     "end_time": "2023-12-21T19:00:00.750619600Z",
     "start_time": "2023-12-21T19:00:00.672482500Z"
    }
   },
   "outputs": [
    {
     "name": "stdout",
     "output_type": "stream",
     "text": [
      "5/5 [==============================] - 0s 4ms/step\n"
     ]
    },
    {
     "data": {
      "text/plain": "array([[0.0000000e+00, 0.0000000e+00, 0.0000000e+00, ..., 1.0753523e-35,\n        0.0000000e+00, 0.0000000e+00],\n       [0.0000000e+00, 3.2424735e-26, 1.0000000e+00, ..., 0.0000000e+00,\n        3.6229913e-30, 0.0000000e+00],\n       [0.0000000e+00, 1.0000000e+00, 0.0000000e+00, ..., 0.0000000e+00,\n        0.0000000e+00, 0.0000000e+00],\n       ...,\n       [0.0000000e+00, 0.0000000e+00, 1.0000000e+00, ..., 4.4394733e-15,\n        1.4649520e-19, 0.0000000e+00],\n       [0.0000000e+00, 0.0000000e+00, 0.0000000e+00, ..., 0.0000000e+00,\n        0.0000000e+00, 3.5646422e-32],\n       [0.0000000e+00, 0.0000000e+00, 1.0000000e+00, ..., 0.0000000e+00,\n        1.2792521e-25, 0.0000000e+00]], dtype=float32)"
     },
     "execution_count": 32,
     "metadata": {},
     "output_type": "execute_result"
    }
   ],
   "source": [
    "predictions = model.predict(test_images)\n",
    "predictions"
   ]
  }
 ],
 "metadata": {
  "kernelspec": {
   "display_name": "Python 3 (ipykernel)",
   "language": "python",
   "name": "python3"
  },
  "language_info": {
   "codemirror_mode": {
    "name": "ipython",
    "version": 3
   },
   "file_extension": ".py",
   "mimetype": "text/x-python",
   "name": "python",
   "nbconvert_exporter": "python",
   "pygments_lexer": "ipython3",
   "version": "3.10.11"
  }
 },
 "nbformat": 4,
 "nbformat_minor": 4
}
