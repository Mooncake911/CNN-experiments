{
 "cells": [
  {
   "cell_type": "markdown",
   "metadata": {},
   "source": [
    "<center><h1> TensorFlow CNN Classifier </h1></center>"
   ]
  },
  {
   "cell_type": "markdown",
   "metadata": {},
   "source": [
    "# 1) Import Libraries"
   ]
  },
  {
   "cell_type": "code",
   "execution_count": 377,
   "metadata": {
    "ExecuteTime": {
     "end_time": "2023-12-18T00:40:41.315540900Z",
     "start_time": "2023-12-18T00:40:41.150567400Z"
    }
   },
   "outputs": [
    {
     "name": "stdout",
     "output_type": "stream",
     "text": [
      "2.14.0\n"
     ]
    }
   ],
   "source": [
    "import tensorflow as tf\n",
    "from tensorflow import keras\n",
    "\n",
    "import numpy as np\n",
    "import matplotlib.pyplot as plt\n",
    "\n",
    "print(tf.__version__)"
   ]
  },
  {
   "cell_type": "markdown",
   "metadata": {},
   "source": [
    "# 2) Load the Data"
   ]
  },
  {
   "cell_type": "code",
   "execution_count": 378,
   "metadata": {
    "ExecuteTime": {
     "end_time": "2023-12-18T00:40:41.315540900Z",
     "start_time": "2023-12-18T00:40:41.168331Z"
    }
   },
   "outputs": [],
   "source": [
    "train_images = np.load('..\\Data\\lego-train-images.npy')\n",
    "train_labels = np.load('..\\Data\\lego-train-labels.npy')\n",
    "test_images = np.load('..\\Data\\lego-test-images.npy')\n",
    "test_labels = np.load('..\\Data\\lego-test-labels.npy')"
   ]
  },
  {
   "cell_type": "markdown",
   "metadata": {},
   "source": [
    "The labels we loaded are integer values 1 through 10. Integer values are great for the model to understand and predict, but they are a hassle for us to understand as we are working with the data. Let's add some human-readable names for the labels we are trying to predict."
   ]
  },
  {
   "cell_type": "code",
   "execution_count": 379,
   "metadata": {
    "ExecuteTime": {
     "end_time": "2023-12-18T00:40:41.331169800Z",
     "start_time": "2023-12-18T00:40:41.183934Z"
    }
   },
   "outputs": [],
   "source": [
    "# For humans:\n",
    "class_names = ['2x3 Brick', '2x2 Brick', '1x3 Brick', '2x1 Brick', '1x1 Brick', \n",
    "               '2x2 Macaroni', '2x2 Curved End', 'Cog 16 Tooth', '1x2 Handles', '1x2 Grill']\n",
    "\n",
    "# Or the real LEGO codes:\n",
    "# class_names = ['3002', '3003', '3622', '3004', '3005', '3063', '47457', '94925', '3839a', '2412b']"
   ]
  },
  {
   "cell_type": "code",
   "execution_count": 380,
   "metadata": {
    "ExecuteTime": {
     "end_time": "2023-12-18T00:40:41.331169800Z",
     "start_time": "2023-12-18T00:40:41.199569100Z"
    }
   },
   "outputs": [
    {
     "name": "stdout",
     "output_type": "stream",
     "text": [
      "(48, 48, 1)\n",
      "(48, 48, 1)\n"
     ]
    }
   ],
   "source": [
    "print(train_images[0].shape)\n",
    "print(test_images[0].shape)"
   ]
  },
  {
   "cell_type": "markdown",
   "metadata": {},
   "source": [
    "# 3) Create the Model"
   ]
  },
  {
   "cell_type": "markdown",
   "metadata": {},
   "source": [
    "Now the data is loaded, and we have an idea of what we're working with, so let's teach the machine what we're working with. First, we need to create a model. We're creating an artificial neural network. It has three layers.\n",
    "\n",
    "1. The input layer with enough nodes for our image data. \n",
    "2. A hidden layer with 128 nodes.\n",
    "3. An output layer with 10 nodes, one for each of the classes we want to identify.\n",
    "\n",
    "The first layer is doing a bit of data processing for us. It will change the input from a 48x48 matrix to a 2,304 value arary. This allows the input to be densely connected to the next layer. We could have also done this step outside of the model, but we would also have to do the same conversion to the data we are trying to predict before sending it to the trained model. Using the Flatten layer saves us a data preprocessing step during prediction, since that data is also formatted as 48x48 matrixes.\n",
    "\n",
    "Each layer is densely connected, meaning each neuron in one layer is connected to every neuron in the next layer."
   ]
  },
  {
   "cell_type": "code",
   "execution_count": 381,
   "metadata": {
    "ExecuteTime": {
     "end_time": "2023-12-18T00:40:41.378034300Z",
     "start_time": "2023-12-18T00:40:41.221756300Z"
    }
   },
   "outputs": [],
   "source": [
    "model = keras.Sequential([\n",
    "    keras.layers.Flatten(input_shape=(48, 48)),\n",
    "    keras.layers.Dense(128, activation='relu'),\n",
    "    keras.layers.Dense(10, activation='softmax')\n",
    "])"
   ]
  },
  {
   "cell_type": "markdown",
   "metadata": {},
   "source": [
    "Now we compile the model."
   ]
  },
  {
   "cell_type": "code",
   "execution_count": 382,
   "metadata": {
    "ExecuteTime": {
     "end_time": "2023-12-18T00:40:41.378034300Z",
     "start_time": "2023-12-18T00:40:41.253032900Z"
    }
   },
   "outputs": [],
   "source": [
    "model.compile(optimizer='adam',\n",
    "              loss='sparse_categorical_crossentropy',\n",
    "              metrics=['acc'])"
   ]
  },
  {
   "cell_type": "markdown",
   "metadata": {},
   "source": [
    "Finally, it's time to train the model. Note the epochs and watch the accuracy as it processes."
   ]
  },
  {
   "cell_type": "code",
   "execution_count": 383,
   "metadata": {
    "ExecuteTime": {
     "end_time": "2023-12-18T00:40:42.158899800Z",
     "start_time": "2023-12-18T00:40:41.268657800Z"
    }
   },
   "outputs": [
    {
     "name": "stdout",
     "output_type": "stream",
     "text": [
      "Epoch 1/5\n",
      "15/15 [==============================] - 0s 6ms/step - loss: 90.8205 - acc: 0.2927\n",
      "Epoch 2/5\n",
      "15/15 [==============================] - 0s 6ms/step - loss: 11.9034 - acc: 0.6475\n",
      "Epoch 3/5\n",
      "15/15 [==============================] - 0s 4ms/step - loss: 4.1643 - acc: 0.7805\n",
      "Epoch 4/5\n",
      "15/15 [==============================] - 0s 6ms/step - loss: 2.8976 - acc: 0.8293\n",
      "Epoch 5/5\n",
      "15/15 [==============================] - 0s 6ms/step - loss: 0.6147 - acc: 0.9401\n"
     ]
    }
   ],
   "source": [
    "history = model.fit(train_images, train_labels, epochs=5)"
   ]
  },
  {
   "cell_type": "markdown",
   "metadata": {},
   "source": [
    "You can see from the output above that with each epoch, the model gets a greater accuracy score. When we trained the model, we stored the ```history``` of the training in a variable so we can draw a graph of how the training process progressed. We can plot accuracy and loss over the epochs."
   ]
  },
  {
   "cell_type": "code",
   "execution_count": 384,
   "metadata": {
    "ExecuteTime": {
     "end_time": "2023-12-18T00:40:42.424732600Z",
     "start_time": "2023-12-18T00:40:42.158899800Z"
    }
   },
   "outputs": [
    {
     "data": {
      "text/plain": "<Figure size 1500x400 with 2 Axes>",
      "image/png": "[encoded data removed]"
     },
     "metadata": {},
     "output_type": "display_data"
    }
   ],
   "source": [
    "plt.figure(figsize=(15, 4))\n",
    "\n",
    "plt.subplot(1, 2, 1)\n",
    "# Plot training accuracy values\n",
    "plt.plot(history.history['acc'])\n",
    "plt.title('Model accuracy')\n",
    "plt.ylabel('Accuracy')\n",
    "plt.xlabel('Epoch')\n",
    "plt.legend(['Train', 'Test'], loc='upper left')\n",
    "\n",
    "plt.subplot(1, 2, 2)\n",
    "# Plot training loss values\n",
    "plt.plot(history.history['loss'])\n",
    "plt.title('Model loss')\n",
    "plt.ylabel('Loss')\n",
    "plt.xlabel('Epoch')\n",
    "plt.legend(['Train', 'Test'], loc='upper left')\n",
    "plt.show()"
   ]
  },
  {
   "cell_type": "markdown",
   "metadata": {},
   "source": [
    "# 4) Evaluate the Model\n",
    "\n",
    "Accuracy while training is one thing. Let's calculate accuracy against the __testing data__. If the accuracy achieved during training is much greater than what we calculate for the testing data, the model is probably overfit. This means it works well to classify training data but not testing data."
   ]
  },
  {
   "cell_type": "code",
   "execution_count": 385,
   "metadata": {
    "ExecuteTime": {
     "end_time": "2023-12-18T00:40:42.590553500Z",
     "start_time": "2023-12-18T00:40:42.416817700Z"
    }
   },
   "outputs": [
    {
     "name": "stdout",
     "output_type": "stream",
     "text": [
      "5/5 [==============================] - 0s 4ms/step - loss: 0.4740 - acc: 0.9333\n",
      "Test accuracy: 0.9333333373069763\n",
      "Test loss: 0.4739668369293213\n"
     ]
    }
   ],
   "source": [
    "test_loss, test_acc = model.evaluate(test_images, test_labels)\n",
    "print('Test accuracy:', test_acc)\n",
    "print('Test loss:', test_loss)"
   ]
  },
  {
   "cell_type": "markdown",
   "metadata": {},
   "source": [
    "## Single Prediction"
   ]
  },
  {
   "cell_type": "markdown",
   "metadata": {},
   "source": [
    "We need to do one quick transformation of this image before we can see what the model thinks. The ```predict``` method expects a collection of images, so we create a collection of one image."
   ]
  },
  {
   "cell_type": "code",
   "execution_count": 386,
   "metadata": {
    "ExecuteTime": {
     "end_time": "2023-12-18T00:40:42.653046700Z",
     "start_time": "2023-12-18T00:40:42.590553500Z"
    }
   },
   "outputs": [
    {
     "data": {
      "text/plain": "(1, 48, 48, 1)"
     },
     "execution_count": 386,
     "metadata": {},
     "output_type": "execute_result"
    }
   ],
   "source": [
    "test_image_number = 65\n",
    "\n",
    "img = test_images[test_image_number]\n",
    "img = (np.expand_dims(img,0))\n",
    "img.shape"
   ]
  },
  {
   "cell_type": "markdown",
   "metadata": {},
   "source": [
    "The shape is now a collection of 1 piece of data that is 48x48. Next, we pass our image to the ```predict``` method. The result is a list of probabilities that the image is a certain class."
   ]
  },
  {
   "cell_type": "code",
   "execution_count": 387,
   "metadata": {
    "ExecuteTime": {
     "end_time": "2023-12-18T00:40:42.699926200Z",
     "start_time": "2023-12-18T00:40:42.606177Z"
    }
   },
   "outputs": [
    {
     "name": "stdout",
     "output_type": "stream",
     "text": [
      "1/1 [==============================] - 0s 47ms/step\n"
     ]
    },
    {
     "data": {
      "text/plain": "array([[0.0000000e+00, 0.0000000e+00, 3.8093561e-21, 3.1450039e-33,\n        3.9982256e-19, 9.9999988e-01, 1.1044830e-21, 0.0000000e+00,\n        0.0000000e+00, 9.6802879e-08]], dtype=float32)"
     },
     "execution_count": 387,
     "metadata": {},
     "output_type": "execute_result"
    }
   ],
   "source": [
    "predictions_single = model.predict(img)\n",
    "predictions_single"
   ]
  },
  {
   "cell_type": "markdown",
   "metadata": {
    "collapsed": false
   },
   "source": [
    "Those are not not very easy for us to look at. Luckily, NumPy has a handy function called `argmax` to find the index of the largest value in the list, which saves us having to look! We can use a second NumPy method to find the actual `max` value."
   ]
  },
  {
   "cell_type": "code",
   "execution_count": 388,
   "metadata": {
    "collapsed": false,
    "ExecuteTime": {
     "end_time": "2023-12-18T00:40:42.762322300Z",
     "start_time": "2023-12-18T00:40:42.699926200Z"
    }
   },
   "outputs": [
    {
     "name": "stdout",
     "output_type": "stream",
     "text": [
      "Predicted class 5, which is 2x2 Macaroni.\n",
      "The model thinks there is a 100.00% probability of this brick being correct.\n",
      "Real result is 2x2 Macaroni.\n"
     ]
    }
   ],
   "source": [
    "prediction_result = np.argmax(predictions_single)\n",
    "probability = np.max(predictions_single)\n",
    "real_result = class_names[test_labels[test_image_number]]\n",
    "print(f\"Predicted class {prediction_result}, which is {class_names[prediction_result]}.\")\n",
    "print(f\"The model thinks there is a {probability*100:.2f}% probability of this brick being correct.\")\n",
    "print(f\"Real result is {real_result}.\")"
   ]
  },
  {
   "cell_type": "markdown",
   "metadata": {},
   "source": [
    "Here are a couple of functions to help with the display of the prediction data."
   ]
  },
  {
   "cell_type": "code",
   "execution_count": 389,
   "metadata": {
    "ExecuteTime": {
     "end_time": "2023-12-18T00:40:42.762322300Z",
     "start_time": "2023-12-18T00:40:42.715535300Z"
    }
   },
   "outputs": [],
   "source": [
    "# Function to display the prediction results in a graph:\n",
    "def plot_value_array(predictions_array, true_label, image):\n",
    "    predicted_label = np.argmax(predictions_array)\n",
    "    predicted_probability = 100 * np.max(predictions_array)\n",
    "    \n",
    "    fig, (ax1, ax2) = plt.subplots(1, 2, figsize=(10, 4))\n",
    "\n",
    "    ax1.axis('off')\n",
    "    ax1.imshow(image, cmap='gray')\n",
    "    color = 'green' if predicted_label == true_label else 'red'\n",
    "    ax1.set_title(f\"{class_names[predicted_label]} {predicted_probability:2.0f}% ({class_names[true_label]})\", color=color)\n",
    "    \n",
    "    plot = ax2.bar(range(len(predictions_array)), predictions_array, color=\"#777777\")\n",
    "    ax2.set_xticks(range(len(class_names)), class_names, rotation=80)\n",
    "    plot[predicted_label].set_color('red')\n",
    "    plot[true_label].set_color('green')\n",
    "    \n",
    "    plt.show()"
   ]
  },
  {
   "cell_type": "markdown",
   "metadata": {},
   "source": [
    "Let's plot a bar chart using the helper function. This gives us a sense of how well the model classified this image. The predicted label will be red if it is different than the actual label. The actual label will be green."
   ]
  },
  {
   "cell_type": "code",
   "execution_count": 390,
   "metadata": {
    "ExecuteTime": {
     "end_time": "2023-12-18T00:40:42.903091800Z",
     "start_time": "2023-12-18T00:40:42.731030300Z"
    }
   },
   "outputs": [
    {
     "data": {
      "text/plain": "<Figure size 1000x400 with 2 Axes>",
      "image/png": "[encoded data removed]"
     },
     "metadata": {},
     "output_type": "display_data"
    }
   ],
   "source": [
    "plot_value_array(predictions_array=predictions_single[0], \n",
    "                 true_label=test_labels[test_image_number], \n",
    "                 image=test_images[test_image_number])"
   ]
  },
  {
   "cell_type": "markdown",
   "metadata": {},
   "source": [
    "## Batch Prediction"
   ]
  },
  {
   "cell_type": "markdown",
   "metadata": {},
   "source": [
    "Now let's get prediction values for **all** the test images we have."
   ]
  },
  {
   "cell_type": "code",
   "execution_count": 391,
   "metadata": {
    "ExecuteTime": {
     "end_time": "2023-12-18T00:40:42.981066200Z",
     "start_time": "2023-12-18T00:40:42.903091800Z"
    }
   },
   "outputs": [
    {
     "name": "stdout",
     "output_type": "stream",
     "text": [
      "5/5 [==============================] - 0s 4ms/step\n"
     ]
    },
    {
     "data": {
      "text/plain": "array([[0.00000000e+00, 0.00000000e+00, 9.29620805e-30, ...,\n        1.03185045e-36, 3.03593723e-21, 9.54445706e-26],\n       [3.02966823e-35, 0.00000000e+00, 1.00000000e+00, ...,\n        0.00000000e+00, 0.00000000e+00, 0.00000000e+00],\n       [2.28974350e-26, 1.00000000e+00, 0.00000000e+00, ...,\n        0.00000000e+00, 0.00000000e+00, 0.00000000e+00],\n       ...,\n       [0.00000000e+00, 0.00000000e+00, 1.00000000e+00, ...,\n        0.00000000e+00, 0.00000000e+00, 0.00000000e+00],\n       [0.00000000e+00, 0.00000000e+00, 0.00000000e+00, ...,\n        5.08882889e-24, 2.96976444e-36, 4.06997949e-13],\n       [0.00000000e+00, 0.00000000e+00, 1.00000000e+00, ...,\n        0.00000000e+00, 0.00000000e+00, 0.00000000e+00]], dtype=float32)"
     },
     "execution_count": 391,
     "metadata": {},
     "output_type": "execute_result"
    }
   ],
   "source": [
    "predictions = model.predict(test_images)\n",
    "predictions"
   ]
  }
 ],
 "metadata": {
  "kernelspec": {
   "display_name": "Python 3 (ipykernel)",
   "language": "python",
   "name": "python3"
  },
  "language_info": {
   "codemirror_mode": {
    "name": "ipython",
    "version": 3
   },
   "file_extension": ".py",
   "mimetype": "text/x-python",
   "name": "python",
   "nbconvert_exporter": "python",
   "pygments_lexer": "ipython3",
   "version": "3.10.11"
  }
 },
 "nbformat": 4,
 "nbformat_minor": 4
}
